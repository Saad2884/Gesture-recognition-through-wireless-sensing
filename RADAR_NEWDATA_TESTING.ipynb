{
 "cells": [
  {
   "cell_type": "code",
   "execution_count": 219,
   "id": "dd1a1525",
   "metadata": {},
   "outputs": [
    {
     "name": "stdout",
     "output_type": "stream",
     "text": [
      "Radar SDK Version: 3.4.0\n"
     ]
    }
   ],
   "source": [
    "import warnings\n",
    "warnings.filterwarnings(\"ignore\")\n",
    "\n",
    "import numpy as np\n",
    "from ifxAvian import Avian\n",
    "from scipy import signal\n",
    "import matplotlib.pyplot as plt\n",
    "import csv\n",
    "import joblib\n",
    "import pandas as pd\n",
    "\n",
    "print(\"Radar SDK Version: \" + Avian.get_version())\n",
    "\n",
    "RX1_data = []\n",
    "RX2_data = []\n",
    "RX3_data = []"
   ]
  },
  {
   "cell_type": "code",
   "execution_count": 220,
   "id": "f6c6aa27",
   "metadata": {},
   "outputs": [],
   "source": [
    "def fft_spectrum(mat, range_window):\n",
    "    # Calculate fft spectrum\n",
    "    # mat:          chirp data\n",
    "    # range_window: window applied on input data before fft\n",
    "\n",
    "    # received data 'mat' is in matrix form for a single receive antenna\n",
    "    # each row contains 'chirpsamples' samples for a single chirp\n",
    "    # total number of rows = 'numchirps'\n",
    "\n",
    "    # -------------------------------------------------\n",
    "    # Step 1 - remove DC bias from samples\n",
    "    # -------------------------------------------------\n",
    "    [numchirps, chirpsamples] = np.shape(mat)\n",
    "\n",
    "    # helpful in zero padding for high resolution FFT.\n",
    "    # compute row (chirp) averages\n",
    "    avgs = np.average(mat,1).reshape(numchirps,1)\n",
    "\n",
    "    #de-bias values\n",
    "    mat = mat - avgs\n",
    "    # -------------------------------------------------\n",
    "    # Step 2 - Windowing the Data\n",
    "    # -------------------------------------------------\n",
    "    mat = np.multiply(mat,range_window)\n",
    "\n",
    "    # -------------------------------------------------\n",
    "    # Step 3 - add zero padding here\n",
    "    # -------------------------------------------------\n",
    "    zp1 = np.pad(mat,((0,0),(0,chirpsamples)),'constant')\n",
    "\n",
    "    # -------------------------------------------------\n",
    "    # Step 4 - Compute FFT for distance information\n",
    "    # -------------------------------------------------\n",
    "    range_fft = np.fft.fft(zp1)/chirpsamples\n",
    "\n",
    "    #ignore the redundant info in negative spectrum\n",
    "    #compensate energy by doubling magnitude\n",
    "    range_fft = 2*range_fft[:,range(int(chirpsamples))]\n",
    "\n",
    "    return range_fft"
   ]
  },
  {
   "cell_type": "code",
   "execution_count": 221,
   "id": "5ca3d4c6",
   "metadata": {},
   "outputs": [],
   "source": [
    "def compute_doppler_map(data : np.ndarray, i_ant : int):\n",
    "    mti_alpha = 0.8 # moving target indicator\n",
    "    num_ant = 3\n",
    "    mti_history = np.zeros((num_chirps_per_frame, num_samples_per_chirp, num_ant))\n",
    "    \"\"\"Compute Range-Doppler map for i-th antennas\n",
    "    \n",
    "    Parameter:\n",
    "        - data:     Raw-data for one antenna (dimension:\n",
    "                    num_chirps_per-frame x num_samples_per_chirp)\n",
    "        - i_ant:    Number of antenna\n",
    "    \"\"\"\n",
    "    # Step 1 - Remove average from signal (mean removal)\n",
    "    data = data - np.average(data)\n",
    "\n",
    "    # Step 2 - MTI processing to remove static objects\n",
    "    data_mti = data - mti_history[:,:,i_ant]\n",
    "    mti_history[:,:,i_ant] = data*mti_alpha + mti_history[:,:,i_ant]*(1-mti_alpha)\n",
    "\n",
    "    # Step 3 - calculate fft spectrum for the frame\n",
    "    fft1d = fft_spectrum(data_mti, range_window)\n",
    "\n",
    "    # prepare for doppler FFT\n",
    "\n",
    "    # Transpose\n",
    "    # Distance is now indicated on y axis\n",
    "    fft1d = np.transpose(fft1d)\n",
    "\n",
    "    # Step 4 - Windowing the Data in doppler\n",
    "    fft1d = np.multiply(fft1d,doppler_window)\n",
    "\n",
    "    zp2 = np.pad(fft1d,((0,0),(0,num_chirps_per_frame)), \"constant\")\n",
    "    fft2d = np.fft.fft(zp2)/num_chirps_per_frame\n",
    "\n",
    "    # re-arrange fft result for zero speed at centre\n",
    "    return np.fft.fftshift(fft2d,(1,))"
   ]
  },
  {
   "cell_type": "code",
   "execution_count": 222,
   "id": "79d6920c",
   "metadata": {},
   "outputs": [],
   "source": [
    "class Draw:\n",
    "    # Represents drawing for example\n",
    "    #\n",
    "    # Draw is done for each antenna, and each antenna is represented for\n",
    "    # other subplot\n",
    "\n",
    "    def __init__(self, max_speed_m_s, max_range_m, num_ant):\n",
    "        # max_range_m:   maximum supported range\n",
    "        # max_speed_m_s: maximum supported speed\n",
    "        # num_ant:       Number of antennas\n",
    "        self._h = []\n",
    "        self._max_speed_m_s = max_speed_m_s\n",
    "        self._max_range_m = max_range_m\n",
    "        self._num_ant = num_ant\n",
    "\n",
    "        self._fig, ax = plt.subplots(nrows=1, ncols=num_ant, figsize=((num_ant+1)//2,2))\n",
    "        if(num_ant==1):\n",
    "            self._ax = [ax]\n",
    "        else:\n",
    "            self._ax = ax\n",
    "\n",
    "        self._fig.canvas.manager.set_window_title(\"Doppler\")\n",
    "        self._fig.set_size_inches(3*num_ant+1, 3+1/num_ant)\n",
    "        self._fig.canvas.mpl_connect('close_event', self.close)\n",
    "        self._is_window_open = True\n",
    "\n",
    "    def _draw_first_time(self, data_all_antennas):\n",
    "        # First time draw\n",
    "        #\n",
    "        # It computes minimal, maximum value and draw data for all antennas\n",
    "        # in same scale\n",
    "        # data_all_antennas: array of raw data for each antenna\n",
    "\n",
    "        minmin = min([np.min(data) for data in data_all_antennas])\n",
    "        maxmax = max([np.max(data) for data in data_all_antennas])\n",
    "\n",
    "        for i_ant in range(self._num_ant):\n",
    "            data = data_all_antennas[i_ant]\n",
    "            h = self._ax[i_ant].imshow(\n",
    "                        data,\n",
    "                        vmin=minmin, vmax=maxmax,\n",
    "                        cmap='jet',\n",
    "                        extent=(    -self._max_speed_m_s,\n",
    "                                    self._max_speed_m_s,\n",
    "                                    0,\n",
    "                                    self._max_range_m),\n",
    "                        origin='lower')\n",
    "            self._h.append(h)\n",
    "\n",
    "            self._ax[i_ant].set_xlabel(\"velocity (m/s)\")\n",
    "            self._ax[i_ant].set_ylabel(\"distance (m)\")\n",
    "            self._ax[i_ant].set_title(\"antenna #\"+str(i_ant))\n",
    "        self._fig.subplots_adjust(right=0.8)\n",
    "        cbar_ax = self._fig.add_axes([0.85, 0.0, 0.03, 1])\n",
    "\n",
    "        cbar =self._fig.colorbar(self._h[0], cax=cbar_ax)\n",
    "        cbar.ax.set_ylabel(\"magnitude (dB)\")\n",
    "\n",
    "    def _draw_next_time(self, data_all_antennas):\n",
    "        # Update data for each antenna\n",
    "\n",
    "        for i_ant in range(0, self._num_ant):\n",
    "            data = data_all_antennas[i_ant]\n",
    "            self._h[i_ant].set_data(data)\n",
    "\n",
    "    def draw(self, data_all_antennas):\n",
    "        # Draw data for all antenna\n",
    "        if self._is_window_open:\n",
    "            first_run = len(self._h) == 0\n",
    "            if first_run:\n",
    "                self._draw_first_time(data_all_antennas)\n",
    "            else:\n",
    "                self._draw_next_time(data_all_antennas)\n",
    "\n",
    "            # Needed for Matplotlib ver: 3.4.0 and 3.4.1 helps with capture closing event\n",
    "            plt.draw()\n",
    "            plt.pause(1e-3)\n",
    "\n",
    "    def close(self, event = None):\n",
    "        if self.is_open():\n",
    "            self._is_window_open = False\n",
    "            plt.close(self._fig)\n",
    "            plt.close('all')\n",
    "            print('Application closed!')\n",
    "\n",
    "    def is_open(self):\n",
    "        return self._is_window_open\n",
    "# -------------------------------------------------\n",
    "# Helpers\n",
    "# -------------------------------------------------\n",
    "def parse_attr_nframes_frate( description, def_nframes, def_frate):\n",
    "    # Parse all program attributes\n",
    "    # description:   describes program\n",
    "    # def_nframes:   default number of frames\n",
    "    # def_frate:     default frame rate in Hz\n",
    "    parser = argparse.ArgumentParser(\n",
    "        description=description)\n",
    "\n",
    "    parser.add_argument('-n', '--nframes', type=int,\n",
    "                        default=def_nframes, help=\"number of frames, default \"+str(def_nframes))\n",
    "    parser.add_argument('-f', '--frate', type=int, default=def_frate,\n",
    "                        help=\"frame rate in Hz, default \"+str(def_frate))\n",
    "\n",
    "    return parser.parse_args()\n",
    "\n",
    "def linear_to_dB(x):\n",
    "    return 20*np.log10(abs(x))"
   ]
  },
  {
   "cell_type": "code",
   "execution_count": 223,
   "id": "7f7ac757",
   "metadata": {},
   "outputs": [
    {
     "data": {
      "image/png": "[encoded data removed]",
      "text/plain": [
       "<Figure size 1000x333.333 with 4 Axes>"
      ]
     },
     "metadata": {},
     "output_type": "display_data"
    },
    {
     "data": {
      "text/plain": [
       "<Figure size 640x480 with 0 Axes>"
      ]
     },
     "metadata": {},
     "output_type": "display_data"
    },
    {
     "data": {
      "text/plain": [
       "<Figure size 640x480 with 0 Axes>"
      ]
     },
     "metadata": {},
     "output_type": "display_data"
    },
    {
     "data": {
      "text/plain": [
       "<Figure size 640x480 with 0 Axes>"
      ]
     },
     "metadata": {},
     "output_type": "display_data"
    },
    {
     "data": {
      "text/plain": [
       "<Figure size 640x480 with 0 Axes>"
      ]
     },
     "metadata": {},
     "output_type": "display_data"
    },
    {
     "data": {
      "text/plain": [
       "<Figure size 640x480 with 0 Axes>"
      ]
     },
     "metadata": {},
     "output_type": "display_data"
    },
    {
     "data": {
      "text/plain": [
       "<Figure size 640x480 with 0 Axes>"
      ]
     },
     "metadata": {},
     "output_type": "display_data"
    },
    {
     "data": {
      "text/plain": [
       "<Figure size 640x480 with 0 Axes>"
      ]
     },
     "metadata": {},
     "output_type": "display_data"
    },
    {
     "data": {
      "text/plain": [
       "<Figure size 640x480 with 0 Axes>"
      ]
     },
     "metadata": {},
     "output_type": "display_data"
    },
    {
     "data": {
      "text/plain": [
       "<Figure size 640x480 with 0 Axes>"
      ]
     },
     "metadata": {},
     "output_type": "display_data"
    },
    {
     "name": "stdout",
     "output_type": "stream",
     "text": [
      "Application closed!\n"
     ]
    }
   ],
   "source": [
    "with Avian.Device() as device:\n",
    "    # set device config\n",
    "    num_rx_antennas = device.get_sensor_information()[\"num_rx_antennas\"]\n",
    "    rx_mask = (1 << num_rx_antennas) - 1\n",
    "\n",
    "    configR1 = Avian.DeviceConfig(\n",
    "    sample_rate_Hz = 1_000_000,       # ADC sample rate of 1MHZ\n",
    "    rx_mask = 7,                      # activate RX1 and RX3 AND RX2\n",
    "    tx_mask = 1,                      # activate TX1\n",
    "    if_gain_dB = 33,                  # gain of 33dB\n",
    "    tx_power_level = 31,              # TX power level of 31\n",
    "    start_frequency_Hz = 59.5e9,        #B=1.43GHz \n",
    "    end_frequency_Hz = 60.93e9,        \n",
    "    num_chirps_per_frame = 16,       # 16 chirps per frame\n",
    "    num_samples_per_chirp = 16,       # 64 samples per chirp\n",
    "    chirp_repetition_time_s = 1240e-6, # 1240 us\n",
    "    frame_repetition_time_s = 0.1,    # , frame_Rate = 25Hz\n",
    "    hp_cutoff_Hz = 45_000,            # 80kHz cutoff frequency for high-pass filter\n",
    "    aaf_cutoff_Hz = 500_000,          # Anti-aliasing cutoff frequency of 500kHz\n",
    "    mimo_mode = 'off'                 # MIMO disabled\n",
    "    )\n",
    "    \n",
    "    max_range_m =              4 # for graph only\n",
    "    max_speed_m_s =            2 # for graph only\n",
    "\n",
    "\n",
    "    device.set_config(configR1)\n",
    "    num_chirps_per_frame = configR1.num_chirps_per_frame\n",
    "    num_samples_per_chirp = configR1.num_samples_per_chirp\n",
    "    range_window = signal.blackmanharris(num_samples_per_chirp).reshape(1,num_samples_per_chirp)\n",
    "    doppler_window = signal.blackmanharris(num_chirps_per_frame).reshape(1,num_chirps_per_frame)\n",
    "    draw = Draw(\n",
    "        max_speed_m_s, \\\n",
    "        max_range_m, \\\n",
    "        num_rx_antennas)\n",
    "\n",
    "    no_of_frames = 10 # recording for 1 second\n",
    "    \n",
    "    for frame_number in range(no_of_frames): # For each frame\n",
    "        if not draw.is_open():\n",
    "            break\n",
    "\n",
    "        frame_data = device.get_next_frame()\n",
    "        RX1_data.append(frame_data[0])\n",
    "        RX2_data.append(frame_data[1])\n",
    "        RX3_data.append(frame_data[2])\n",
    "\n",
    "        data_all_antennas = []\n",
    "        data_for_range_all = []\n",
    "\n",
    "\n",
    "\n",
    "        for i_ant in range(0, num_rx_antennas): #For each antenna\n",
    "            mat = frame_data[i_ant, :, :]\n",
    "            data_for_range = compute_doppler_map(mat, i_ant)\n",
    "            data_for_range_all.append(data_for_range)\n",
    "            dfft_dbfs = linear_to_dB(data_for_range)\n",
    "            data_all_antennas.append(dfft_dbfs)\n",
    "        draw.draw(data_all_antennas);\n",
    "\n",
    "    draw.close();"
   ]
  },
  {
   "cell_type": "code",
   "execution_count": 224,
   "id": "756169d7",
   "metadata": {},
   "outputs": [],
   "source": [
    "doppRX1 = []\n",
    "doppRX2 = []\n",
    "doppRX3 = []\n",
    "dopp_all_antennas = []\n",
    "\n",
    "for i_ant in range(0, num_rx_antennas): #For each antenna\n",
    "    mat = frame_data[i_ant, :, :]\n",
    "    dfft_dbfs = linear_to_dB(compute_doppler_map(mat, i_ant))\n",
    "    dopp_all_antennas.append(dfft_dbfs)\n",
    "    if i_ant==0:\n",
    "        doppRX1.append(dfft_dbfs)\n",
    "    if i_ant==1:\n",
    "        doppRX2.append(dfft_dbfs)\n",
    "    if i_ant==2:\n",
    "        doppRX3.append(dfft_dbfs)\n"
   ]
  },
  {
   "cell_type": "code",
   "execution_count": 225,
   "id": "298012e3",
   "metadata": {},
   "outputs": [],
   "source": [
    "### getting linear value of range doppler\n",
    "\n",
    "data_for_range = np.ndarray.flatten(data_for_range)\n",
    "len(data_for_range_all)\n",
    "rangeR1 = data_for_range_all[0]\n",
    "rangeR2 = data_for_range_all[1]\n",
    "rangeR3 = data_for_range_all[2]\n"
   ]
  },
  {
   "cell_type": "code",
   "execution_count": 226,
   "id": "d99dc5c5",
   "metadata": {},
   "outputs": [],
   "source": [
    "# data = []\n",
    "# data.append(np.ndarray.flatten(doppRX1[0]))\n",
    "# data.append(np.ndarray.flatten(doppRX2[0]))\n",
    "# data.append(np.ndarray.flatten(doppRX3[0]))\n",
    "# data = np.array(data)\n",
    "# data = np.ndarray.flatten(data)\n",
    "# data = np.float16(data)\n",
    "\n",
    "#### for range doppler data (absolute) ###\n",
    "\n",
    "data = []\n",
    "comp_data = []\n",
    "\n",
    "data.append(np.ndarray.flatten(rangeR1))\n",
    "data.append(np.ndarray.flatten(rangeR2))\n",
    "data.append(np.ndarray.flatten(rangeR3))\n",
    "data = np.array(data)\n",
    "data = np.ndarray.flatten(data)\n",
    "\n",
    "real_data = np.real(data)\n",
    "img_data = np.imag(data)\n",
    "\n",
    "comp_data.append(real_data)\n",
    "comp_data.append(img_data)\n",
    "\n",
    "comp_data = np.array(comp_data)\n",
    "comp_data = np.ndarray.flatten(comp_data)\n",
    "# data = np.float16(data)\n"
   ]
  },
  {
   "cell_type": "code",
   "execution_count": 227,
   "id": "631485e1",
   "metadata": {},
   "outputs": [],
   "source": [
    "# label = \"LEFT\"\n",
    "# Columns = []\n",
    "# for i in range(len(data-1)):\n",
    "#     s = \"Sample \" + str(i)\n",
    "#     Columns.append(s)\n",
    "# Columns.append('GESTURE')\n",
    "\n",
    "# data = data.astype(object)\n",
    "# data = np.append(data,label)\n",
    "\n",
    "label = \"RIGHT\"\n",
    "Columns = []\n",
    "\n",
    "## for real values\n",
    "for i in range(1,len(np.ndarray.flatten(rangeR1))+1):\n",
    "    s = \"RX1 (\" + str(i) + \") R\"\n",
    "    Columns.append(s)\n",
    "    \n",
    "for i in range(1,len(np.ndarray.flatten(rangeR2))+1):\n",
    "    s = \"RX2 (\" + str(i) + \") R\"\n",
    "    Columns.append(s) \n",
    "    \n",
    "for i in range(1,len(np.ndarray.flatten(rangeR3))+1):\n",
    "    s = \"RX3 (\" + str(i) + \") R\"\n",
    "    Columns.append(s)\n",
    "\n",
    "    \n",
    "## for imaginary values\n",
    "for i in range(1,len(np.ndarray.flatten(rangeR1))+1):\n",
    "    s = \"RX1 (\" + str(i) + \") I\"\n",
    "    Columns.append(s)\n",
    "    \n",
    "for i in range(1,len(np.ndarray.flatten(rangeR2))+1):\n",
    "    s = \"RX2 (\" + str(i) + \") I\"\n",
    "    Columns.append(s) \n",
    "    \n",
    "for i in range(1,len(np.ndarray.flatten(rangeR3))+1):\n",
    "    s = \"RX3 (\" + str(i) + \") I\"\n",
    "    Columns.append(s)\n",
    "    \n",
    "Columns.append('GESTURE')\n",
    "\n",
    "# data = data.astype(object)\n",
    "# data = np.append(data,label)\n",
    "\n",
    "comp_data = comp_data.astype(object)\n",
    "comp_data = np.append(comp_data,label)"
   ]
  },
  {
   "cell_type": "code",
   "execution_count": null,
   "id": "834fd13f",
   "metadata": {},
   "outputs": [],
   "source": []
  },
  {
   "cell_type": "code",
   "execution_count": 228,
   "id": "7005986a",
   "metadata": {},
   "outputs": [],
   "source": [
    "with open('datasetT.csv', 'w', newline='') as file:\n",
    "    # Create a writer object\n",
    "    writer = csv.writer(file)\n",
    "\n",
    "    # Write a column header to the CSV file\n",
    "    writer.writerow(Columns)"
   ]
  },
  {
   "cell_type": "code",
   "execution_count": 229,
   "id": "d6202129",
   "metadata": {},
   "outputs": [],
   "source": [
    "with open('datasetT.csv', 'a', newline='') as file:\n",
    "    # Create a writer object\n",
    "    writer = csv.writer(file)\n",
    "\n",
    "    # Writing data to the CSV file\n",
    "    writer.writerow(comp_data)"
   ]
  },
  {
   "cell_type": "code",
   "execution_count": 230,
   "id": "940da86f",
   "metadata": {},
   "outputs": [
    {
     "data": {
      "text/plain": [
       "'RIGHT'"
      ]
     },
     "execution_count": 230,
     "metadata": {},
     "output_type": "execute_result"
    }
   ],
   "source": [
    "#checking for naive bayes\n",
    "\n",
    "model = joblib.load('demo_left_not.pkl')  # Load the saved model file\n",
    "df1 = pd.read_csv('datasetT.csv')\n",
    "newdata = df1.drop('GESTURE', axis=1)\n",
    "newdata\n",
    "p = model.predict(newdata)\n",
    "p[0]"
   ]
  },
  {
   "cell_type": "code",
   "execution_count": 231,
   "id": "9674e8ef",
   "metadata": {},
   "outputs": [],
   "source": [
    "# # checking for LSTM\n",
    "\n",
    "# from tensorflow.keras.models import load_model\n",
    "\n",
    "# # Load the saved model\n",
    "# model = load_model('lstm_model1.h5')\n",
    "# df1 = pd.read_csv('datasetT.csv')\n",
    "# newdata = df1.drop('GESTURE', axis=1)\n",
    "\n",
    "# num_samples, input_dim = newdata.shape\n",
    "\n",
    "# # Reshape the data to match the expected input shape\n",
    "# newdata = newdata.values.reshape(num_samples, 1, input_dim)\n",
    "\n",
    "# p = model.predict(newdata)\n",
    "# p[0][0]\n",
    "# # predicted_labels = np.argmax(p, axis=1)\n",
    "# # print(predicted_labels[0])"
   ]
  },
  {
   "cell_type": "code",
   "execution_count": null,
   "id": "d8a7258f",
   "metadata": {},
   "outputs": [],
   "source": []
  },
  {
   "cell_type": "code",
   "execution_count": 232,
   "id": "8d7e07f0",
   "metadata": {},
   "outputs": [],
   "source": [
    "# # LSTM 2\n",
    "# # Load the saved model\n",
    "# from tensorflow.keras.models import load_model\n",
    "# from sklearn.preprocessing import LabelEncoder\n",
    "# import tensorflow as tf\n",
    "\n",
    "# # Load the dataset from a CSV file\n",
    "# df = pd.read_csv('dataset.csv')\n",
    "\n",
    "# # Separate the features and labels\n",
    "# X = df.iloc[:, :-1].values\n",
    "# y = df.iloc[:, -1].values\n",
    "\n",
    "# # Convert the labels to numeric representation using LabelEncoder\n",
    "# label_encoder = LabelEncoder()\n",
    "# y = label_encoder.fit_transform(y)\n",
    "\n",
    "\n",
    "# # model = load_model('lstm_model1.h5')\n",
    "# model = tf.keras.models.load_model('lstm_model1.h5')\n",
    "# df1 = pd.read_csv('datasetT.csv')\n",
    "# new_data = df1.drop('GESTURE', axis=1)\n",
    "\n",
    "# # Prepare new data instance for prediction\n",
    "# new_data = new_data.values.reshape(1, 1, 3072)\n",
    "\n",
    "# # Make predictions on the new data instance\n",
    "# predictions = model.predict(new_data)\n",
    "# predicted_class = np.argmax(predictions)\n",
    "\n",
    "# # Decode the predicted class using LabelEncoder\n",
    "# predicted_class = label_encoder.inverse_transform([predicted_class])\n",
    "\n",
    "# print(\"Predicted Class:\", predicted_class[0])\n"
   ]
  },
  {
   "cell_type": "code",
   "execution_count": null,
   "id": "98d6c162",
   "metadata": {},
   "outputs": [],
   "source": []
  },
  {
   "cell_type": "code",
   "execution_count": null,
   "id": "e862fceb",
   "metadata": {},
   "outputs": [],
   "source": []
  }
 ],
 "metadata": {
  "kernelspec": {
   "display_name": "Python 3 (ipykernel)",
   "language": "python",
   "name": "python3"
  },
  "language_info": {
   "codemirror_mode": {
    "name": "ipython",
    "version": 3
   },
   "file_extension": ".py",
   "mimetype": "text/x-python",
   "name": "python",
   "nbconvert_exporter": "python",
   "pygments_lexer": "ipython3",
   "version": "3.9.12"
  }
 },
 "nbformat": 4,
 "nbformat_minor": 5
}
